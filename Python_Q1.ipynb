{
 "cells": [
  {
   "cell_type": "markdown",
   "metadata": {},
   "source": [
    "# Question 1:\n",
    "Write a program that takes a string as input, and counts the frequency of each word in the string, there might be repeated characters in the string. Your task is to find the highest frequency and returns the length of the highest-frequency word."
   ]
  },
  {
   "cell_type": "code",
   "execution_count": 3,
   "metadata": {},
   "outputs": [
    {
     "name": "stdout",
     "output_type": "stream",
     "text": [
      "Enter a string:\t12312 12312\n",
      "Word: '12312' \t Frequency: 2\n",
      "Word with highest frequency:\t 12312\n",
      "Length of the word with higest frequency:\t 5\n"
     ]
    }
   ],
   "source": [
    "def count_word_freq(s:str)-> dict:\n",
    "    '''\n",
    "    Input: String  \n",
    "    Returns: frequency as key-value pair\n",
    "    params:\n",
    "        s: (str) input string\n",
    "    '''\n",
    "    word_freq = dict()                  # initializing empty dictionary\n",
    "    word_list = list(set(s.split(' ')))      # unique words list\n",
    "    for word in word_list:\n",
    "        word_freq[word] = s.count(word) # updating wordfrequency dictiponary\n",
    "    \n",
    "    return word_freq\n",
    "\n",
    "if __name__ == \"__main__\":\n",
    "    input_str = input(\"Enter a string:\\t\")  # t  aking input from user\n",
    "    word_freq = count_word_freq(input_str) # function call\n",
    "\n",
    "    for word, frequency in word_freq.items():\n",
    "        print(f\"Word: '{word}' \\t Frequency: {frequency}\")\n",
    "        \n",
    "    word_with_highest_freq = max(word_freq, key = word_freq.get)\n",
    "    print('Word with highest frequency:\\t',word_with_highest_freq)\n",
    "    print('Length of the word with higest frequency:\\t', len(word_with_highest_freq))"
   ]
  },
  {
   "cell_type": "code",
   "execution_count": null,
   "metadata": {},
   "outputs": [],
   "source": []
  }
 ],
 "metadata": {
  "kernelspec": {
   "display_name": "Python 3 (ipykernel)",
   "language": "python",
   "name": "python3"
  },
  "language_info": {
   "codemirror_mode": {
    "name": "ipython",
    "version": 3
   },
   "file_extension": ".py",
   "mimetype": "text/x-python",
   "name": "python",
   "nbconvert_exporter": "python",
   "pygments_lexer": "ipython3",
   "version": "3.10.9"
  }
 },
 "nbformat": 4,
 "nbformat_minor": 2
}
