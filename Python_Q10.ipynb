{
 "cells": [
  {
   "cell_type": "markdown",
   "metadata": {},
   "source": [
    "# Question 10:\n",
    "Write a program to count the number of verbs, nouns, pronouns, and adjectives in a given particular phrase or paragraph, and return their respective count as a dictionary.\n",
    "\n",
    "Note:\n",
    "* Write code comments wherever required for code\n",
    "* You have to write at least 2 additional test cases in which your program will run successfully and provide an explanation for the same."
   ]
  },
  {
   "cell_type": "markdown",
   "metadata": {},
   "source": [
    "### Code:"
   ]
  },
  {
   "cell_type": "code",
   "execution_count": 15,
   "metadata": {},
   "outputs": [
    {
     "name": "stdout",
     "output_type": "stream",
     "text": [
      "Enter a sentence:\tThe cat is sitting on the mat. It is very cute.\n",
      "{'Nouns': 2, 'Pronouns': 1, 'Verbs': 3, 'Adjectives': 1}\n"
     ]
    }
   ],
   "source": [
    "from textblob import TextBlob\n",
    "\n",
    "def calc_parts_of_speech(txt:str)-> dict:\n",
    "    '''\n",
    "    Input: String \n",
    "    Returns: frequency of Verbs, Nouns, Pronouns and Adjectives as a key:value pair\n",
    "    \n",
    "    '''\n",
    "    blob = TextBlob(txt)             # fitting textblob object to given text\n",
    "\n",
    "    v_count = 0\n",
    "    n_count = 0\n",
    "    p_count = 0\n",
    "    a_count = 0\n",
    "\n",
    "    posi_tags = blob.tags              # tagging different parts of speech\n",
    "\n",
    "    for word, pos in posi_tags:\n",
    "        if pos.startswith('VB'):\n",
    "            v_count += 1\n",
    "        elif pos.startswith('NN'):\n",
    "            n_count += 1\n",
    "        elif pos.startswith('PRP'):\n",
    "            p_count += 1\n",
    "        elif pos.startswith('JJ'):\n",
    "            a_count += 1\n",
    "\n",
    "    pos_counts = {\n",
    "        'Nouns': n_count,\n",
    "        'Pronouns': p_count,\n",
    "        'Verbs': v_count,\n",
    "        'Adjectives': a_count\n",
    "    }\n",
    "\n",
    "    return pos_counts\n",
    "\n",
    "if __name__ == \"__main__\":\n",
    "    txt = input ('Enter a sentence:\\t')\n",
    "    print(calc_parts_of_speech(txt))"
   ]
  },
  {
   "cell_type": "markdown",
   "metadata": {},
   "source": [
    "#### Explanation\n",
    "* **Nouns**: 'cat', 'mat'\n",
    "* **Pronouns**: 'It'\n",
    "* **Verbs**: 'is', 'sitting', 'is'\n",
    "* **Adjectives**: 'cute'"
   ]
  },
  {
   "cell_type": "markdown",
   "metadata": {},
   "source": [
    "### Test Case "
   ]
  },
  {
   "cell_type": "code",
   "execution_count": 17,
   "metadata": {},
   "outputs": [
    {
     "name": "stdout",
     "output_type": "stream",
     "text": [
      "Enter a sentence:\tLearning Python is easy\n",
      "{'Nouns': 1, 'Pronouns': 0, 'Verbs': 2, 'Adjectives': 1}\n"
     ]
    }
   ],
   "source": [
    "txt = input ('Enter a sentence:\\t')\n",
    "print(calc_parts_of_speech(txt))"
   ]
  },
  {
   "cell_type": "markdown",
   "metadata": {},
   "source": [
    "#### Explanation\n",
    "* **Nouns**: 'Python'\n",
    "* **Pronouns**: --\n",
    "* **Verbs**: 'Learning', 'is'\n",
    "* **Adjectives**: 'easy'"
   ]
  }
 ],
 "metadata": {
  "kernelspec": {
   "display_name": "Python 3 (ipykernel)",
   "language": "python",
   "name": "python3"
  },
  "language_info": {
   "codemirror_mode": {
    "name": "ipython",
    "version": 3
   },
   "file_extension": ".py",
   "mimetype": "text/x-python",
   "name": "python",
   "nbconvert_exporter": "python",
   "pygments_lexer": "ipython3",
   "version": "3.10.9"
  }
 },
 "nbformat": 4,
 "nbformat_minor": 4
}
