{
 "cells": [
  {
   "cell_type": "markdown",
   "metadata": {},
   "source": [
    "# Question 2:\n",
    "Consider a string to be valid if all characters of the string appear the same number of times. It is also valid if he can remove just one character at the index in the string, and the remaining characters will occur the same number of times. Given a string, determine if it is valid. If so, return YES , otherwise return NO .\n"
   ]
  },
  {
   "cell_type": "code",
   "execution_count": 22,
   "metadata": {},
   "outputs": [],
   "source": [
    "def chk_valid_string(s:str)-> str:\n",
    "    '''\n",
    "    Input: String  \n",
    "    Returns: Checks if the string is valid according to the criteria in YES/NO\n",
    "    '''\n",
    "    char_freq = dict()                                # initializing empty dictionary\n",
    "    char_lst = list(set(list(s)))                         # unique charachters list\n",
    "    for char in char_lst:\n",
    "        char_freq[char] = s.count(char)     # updating char_frequency dictionary\n",
    "        \n",
    "    sum_of_freq = sum(char_freq.values())      # actual number of charachters\n",
    "    value_after_multiplication = min(list(char_freq.values())) * len(char_freq.values())  # multiplying lowest frequency with number of unique charachters\n",
    "    \n",
    "    first_condition = sum_of_freq == value_after_multiplication          # check if all charachters have the same frequency\n",
    "    second_condition = (sum_of_freq - 1) == value_after_multiplication  # check after dropping just one charachter from the sum of frequencies\n",
    "    \n",
    "    return 'YES' if first_condition == True else ('YES' if second_condition == True else 'NO')"
   ]
  },
  {
   "cell_type": "markdown",
   "metadata": {},
   "source": [
    "##### Test case 1 -"
   ]
  },
  {
   "cell_type": "code",
   "execution_count": 23,
   "metadata": {},
   "outputs": [
    {
     "name": "stdout",
     "output_type": "stream",
     "text": [
      "Enter a string:\tabc\n",
      "YES\n"
     ]
    }
   ],
   "source": [
    "s = input (\"Enter a string:\\t\")\n",
    "print(chk_valid_string(s))"
   ]
  },
  {
   "cell_type": "markdown",
   "metadata": {},
   "source": [
    " * This string is valid because all charachters apear only one time"
   ]
  },
  {
   "cell_type": "markdown",
   "metadata": {},
   "source": [
    "##### Test case 2 -"
   ]
  },
  {
   "cell_type": "code",
   "execution_count": 24,
   "metadata": {},
   "outputs": [
    {
     "name": "stdout",
     "output_type": "stream",
     "text": [
      "Enter a string:\taabc\n",
      "YES\n"
     ]
    }
   ],
   "source": [
    "s = input (\"Enter a string:\\t\")\n",
    "print(chk_valid_string(s))"
   ]
  },
  {
   "cell_type": "markdown",
   "metadata": {},
   "source": [
    "* This string is valid because if we drop one occurence of \"a\", we get a valid string"
   ]
  },
  {
   "cell_type": "markdown",
   "metadata": {},
   "source": [
    "##### Test case 3 -"
   ]
  },
  {
   "cell_type": "code",
   "execution_count": 25,
   "metadata": {},
   "outputs": [
    {
     "name": "stdout",
     "output_type": "stream",
     "text": [
      "Enter a string:\taabcc\n",
      "NO\n"
     ]
    }
   ],
   "source": [
    "s = input (\"Enter a string:\\t\")\n",
    "print(chk_valid_string(s))"
   ]
  },
  {
   "cell_type": "markdown",
   "metadata": {},
   "source": [
    "* This is invalid because we can only drop one charachter, and even if we drop one occurence of \"a\" we still have two occurences of \"c\"."
   ]
  }
 ],
 "metadata": {
  "kernelspec": {
   "display_name": "Python 3 (ipykernel)",
   "language": "python",
   "name": "python3"
  },
  "language_info": {
   "codemirror_mode": {
    "name": "ipython",
    "version": 3
   },
   "file_extension": ".py",
   "mimetype": "text/x-python",
   "name": "python",
   "nbconvert_exporter": "python",
   "pygments_lexer": "ipython3",
   "version": "3.10.9"
  }
 },
 "nbformat": 4,
 "nbformat_minor": 4
}
